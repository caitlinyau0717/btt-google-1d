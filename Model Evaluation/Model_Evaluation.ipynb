{
  "nbformat": 4,
  "nbformat_minor": 0,
  "metadata": {
    "colab": {
      "provenance": []
    },
    "kernelspec": {
      "name": "python3",
      "display_name": "Python 3"
    },
    "language_info": {
      "name": "python"
    }
  },
  "cells": [
    {
      "cell_type": "code",
      "execution_count": null,
      "metadata": {
        "id": "HKPTSLh5bFas"
      },
      "outputs": [],
      "source": [
        "import pandas as pd\n",
        "import numpy as np\n",
        "from sklearn.metrics import mean_squared_error, mean_absolute_error\n"
      ]
    },
    {
      "cell_type": "code",
      "source": [
        "# Load predictions and actuals\n",
        "data = pd.read_csv('predictions_with_actuals.csv')"
      ],
      "metadata": {
        "id": "wqET4Vb_bNIC"
      },
      "execution_count": null,
      "outputs": []
    },
    {
      "cell_type": "code",
      "source": [
        "# Calculate evaluation metrics\n",
        "actual = data['actual']\n",
        "predictions = data['predictions']\n",
        "lower_bound = data['lower_bound']\n",
        "upper_bound = data['upper_bound']\n"
      ],
      "metadata": {
        "id": "n06xFVCobPeC"
      },
      "execution_count": null,
      "outputs": []
    },
    {
      "cell_type": "code",
      "source": [
        "# Metrics\n",
        "mse = mean_squared_error(actual, predictions)\n",
        "rmse = np.sqrt(mse)\n",
        "mae = mean_absolute_error(actual, predictions)\n",
        "mape = np.mean(np.abs((actual - predictions) / actual)) * 100\n",
        "median_ape = np.median(np.abs((actual - predictions) / actual)) * 100"
      ],
      "metadata": {
        "id": "485nBvj_bRNI"
      },
      "execution_count": null,
      "outputs": []
    },
    {
      "cell_type": "code",
      "source": [
        "# Coverage\n",
        "coverage = np.mean((actual >= lower_bound) & (actual <= upper_bound))\n"
      ],
      "metadata": {
        "id": "1WxPQUbObTVb"
      },
      "execution_count": null,
      "outputs": []
    },
    {
      "cell_type": "code",
      "source": [
        "# Print results\n",
        "print(f\"Mean Squared Error (MSE): {mse}\")\n",
        "print(f\"Root Mean Squared Error (RMSE): {rmse}\")\n",
        "print(f\"Mean Absolute Error (MAE): {mae}\")\n",
        "print(f\"Mean Absolute Percent Error (MAPE): {mape}%\")\n",
        "print(f\"Median Absolute Percent Error (Median APE): {median_ape}%\")\n",
        "print(f\"Coverage: {coverage * 100}%\")"
      ],
      "metadata": {
        "id": "LpKfvwZlbWZD"
      },
      "execution_count": null,
      "outputs": []
    }
  ]
}