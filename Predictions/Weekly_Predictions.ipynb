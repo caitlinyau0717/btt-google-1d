{
  "nbformat": 4,
  "nbformat_minor": 0,
  "metadata": {
    "colab": {
      "provenance": []
    },
    "kernelspec": {
      "name": "python3",
      "display_name": "Python 3"
    },
    "language_info": {
      "name": "python"
    }
  },
  "cells": [
    {
      "cell_type": "code",
      "execution_count": 1,
      "metadata": {
        "id": "3dzLeE90Y6Cd"
      },
      "outputs": [],
      "source": [
        "import pandas as pd\n",
        "import numpy as np\n",
        "from sklearn.ensemble import RandomForestRegressor"
      ]
    },
    {
      "cell_type": "code",
      "source": [
        "# Prepare weekly data\n",
        "combined_df['week_start'] = combined_df['date'] - pd.to_timedelta(combined_df['date'].dt.dayofweek, unit='d')\n",
        "weekly_df = combined_df.groupby('week_start').agg({\n",
        "    'value': 'mean',\n",
        "    **{col: 'first' for col in combined_df.columns if col not in ['value', 'date', 'week_start']},\n",
        "}).reset_index()"
      ],
      "metadata": {
        "id": "2gQ0LP2WaJPb"
      },
      "execution_count": null,
      "outputs": []
    },
    {
      "cell_type": "code",
      "source": [
        "# Train-test split\n",
        "cutoff_date = '2023-01-01'\n",
        "train_df = weekly_df[weekly_df['week_start'] < cutoff_date]\n",
        "eval_df = weekly_df[weekly_df['week_start'] >= cutoff_date]\n",
        "X_train = train_df.drop(columns=['value', 'week_start'])\n",
        "y_train = train_df['value']\n",
        "X_eval = eval_df.drop(columns=['value', 'week_start'])\n",
        "y_eval = eval_df['value']"
      ],
      "metadata": {
        "id": "gtvUhgZEaRLM"
      },
      "execution_count": null,
      "outputs": []
    },
    {
      "cell_type": "code",
      "source": [
        "# Train the model\n",
        "rf_model = RandomForestRegressor(n_estimators=100, random_state=42)\n",
        "rf_model.fit(X_train, y_train)"
      ],
      "metadata": {
        "id": "FLttg5uraUez"
      },
      "execution_count": null,
      "outputs": []
    },
    {
      "cell_type": "code",
      "source": [
        "# Make predictions\n",
        "predictions = rf_model.predict(X_eval)"
      ],
      "metadata": {
        "id": "ig6cGfj5adRE"
      },
      "execution_count": null,
      "outputs": []
    },
    {
      "cell_type": "code",
      "source": [
        "# Calculate prediction intervals\n",
        "pred_std = np.std([tree.predict(X_eval) for tree in rf_model.estimators_], axis=0)\n",
        "conf_interval = 1.96 * pred_std  # 95% confidence interval\n",
        "lower_bound = predictions - conf_interval\n",
        "upper_bound = predictions + conf_interval\n"
      ],
      "metadata": {
        "id": "HdVbl1qjaeYC"
      },
      "execution_count": null,
      "outputs": []
    },
    {
      "cell_type": "code",
      "source": [
        "# Save data for evaluation\n",
        "eval_df['predictions'] = predictions\n",
        "eval_df['lower_bound'] = lower_bound\n",
        "eval_df['upper_bound'] = upper_bound\n",
        "eval_df['actual'] = y_eval.values\n",
        "eval_df.to_csv('predictions_with_actuals.csv', index=False)\n",
        "\n",
        "print(\"Weekly predictions saved for evaluation.\")"
      ],
      "metadata": {
        "id": "jKLSBqCoalOT"
      },
      "execution_count": null,
      "outputs": []
    }
  ]
}